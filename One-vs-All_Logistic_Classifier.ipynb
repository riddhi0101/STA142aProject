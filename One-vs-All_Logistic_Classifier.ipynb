{
 "cells": [
  {
   "cell_type": "code",
   "execution_count": 32,
   "metadata": {},
   "outputs": [],
   "source": [
    "import numpy as np\n",
    "import pandas as pd\n",
    "from matplotlib import pyplot as plt\n",
    "import sklearn.metrics as sklm"
   ]
  },
  {
   "cell_type": "code",
   "execution_count": 2,
   "metadata": {},
   "outputs": [],
   "source": [
    "data = pd.read_csv(\"drugConsumption_5Response.csv\")\n",
    "# Without the drugs\n",
    "X = data[[\"Age\", \"Gender\", \"Education\", \"Country\", \"Ethnicity\", \"Neuroticism\", \"Extraversion\", \"Openness\", \"Agreeableness\", \"Conscientiousness\", \"Impulsive\", \"Sensation Seeking\"]]"
   ]
  },
  {
   "cell_type": "markdown",
   "metadata": {},
   "source": [
    "Data has been organized so that it corresponds to the five drugs we are focusing on: Benzos, Caffeine, Cocaine, LSD, and Heroin."
   ]
  },
  {
   "cell_type": "code",
   "execution_count": 3,
   "metadata": {
    "scrolled": true
   },
   "outputs": [],
   "source": [
    "# logistic regression for multi-class classification using built-in one-vs-rest\n",
    "from sklearn.linear_model import LogisticRegression\n",
    "from sklearn.model_selection import train_test_split"
   ]
  },
  {
   "cell_type": "code",
   "execution_count": 4,
   "metadata": {},
   "outputs": [],
   "source": [
    "## store the true and predicted labels for all 5 drugs. This is later used for some evaluative measures\n",
    "y_testall = np.zeros((472,5))\n",
    "yhat_all = np.zeros((472,5))"
   ]
  },
  {
   "cell_type": "markdown",
   "metadata": {},
   "source": [
    "### Benzos"
   ]
  },
  {
   "cell_type": "code",
   "execution_count": 5,
   "metadata": {},
   "outputs": [],
   "source": [
    "# Benzos dataset\n",
    "X_train, X_test, y_train, y_test = train_test_split(X, data[\"Benzos\"], test_size = 0.25, random_state=42)"
   ]
  },
  {
   "cell_type": "code",
   "execution_count": 6,
   "metadata": {},
   "outputs": [],
   "source": [
    "# Logistic model\n",
    "model = LogisticRegression(multi_class = \"ovr\", solver='lbfgs')\n",
    "# Fitting model\n",
    "model.fit(X_train, y_train)\n",
    "# Predictions\n",
    "pred = model.predict_proba(X_test)\n",
    "# Accuracy score\n",
    "sBenzos = model.score(X_test, y_test)"
   ]
  },
  {
   "cell_type": "code",
   "execution_count": 7,
   "metadata": {},
   "outputs": [],
   "source": [
    "# Probabilities for positive outcomes only\n",
    "probs = pred[:, 1]\n",
    "\n",
    "# Add predictions to full matrix\n",
    "predi = model.predict(X_test)\n",
    "yhat_all[:,0] = predi\n",
    "y_testall[:,0] = y_test"
   ]
  },
  {
   "cell_type": "code",
   "execution_count": 8,
   "metadata": {},
   "outputs": [
    {
     "name": "stdout",
     "output_type": "stream",
     "text": [
      "No skill: ROC AUC = 0.500\n",
      "Logistic: ROC AUC = 0.766\n"
     ]
    }
   ],
   "source": [
    "from sklearn.metrics import roc_curve\n",
    "from sklearn.metrics import roc_auc_score\n",
    "\n",
    "# No skill prediction\n",
    "ns_probs = [0 for _ in range(len(y_test))]\n",
    "\n",
    "# Calculate scores\n",
    "ns_auc = roc_auc_score(y_test, ns_probs)\n",
    "lr_auc = roc_auc_score(y_test, probs)\n",
    "\n",
    "print(\"No skill: ROC AUC = %.3f\" % (ns_auc))\n",
    "print(\"Logistic: ROC AUC = %.3f\" % (lr_auc))"
   ]
  },
  {
   "cell_type": "code",
   "execution_count": 9,
   "metadata": {},
   "outputs": [],
   "source": [
    "# Calculate ROC curves\n",
    "ns_fpr, ns_tpr, _ = roc_curve(y_test, ns_probs)\n",
    "lr_fpr, lr_tpr, _ = roc_curve(y_test, probs)"
   ]
  },
  {
   "cell_type": "code",
   "execution_count": 10,
   "metadata": {},
   "outputs": [
    {
     "data": {
      "image/png": "[encoded data removed]",
      "text/plain": [
       "<Figure size 432x288 with 1 Axes>"
      ]
     },
     "metadata": {
      "needs_background": "light"
     },
     "output_type": "display_data"
    }
   ],
   "source": [
    "# Plot ROC curve for model\n",
    "plt.plot(ns_fpr, ns_tpr, linestyle = \"--\", label = \"No skill\")\n",
    "plt.plot(lr_fpr, lr_tpr, marker = \".\", label = \"Logistic\")\n",
    "plt.xlabel(\"False Positive Rate\")\n",
    "plt.ylabel(\"True Positive Rate\")\n",
    "plt.title(\"Logistic Classifier for Benzos\")\n",
    "plt.legend()\n",
    "plt.show()"
   ]
  },
  {
   "cell_type": "markdown",
   "metadata": {},
   "source": [
    "### Caffeine"
   ]
  },
  {
   "cell_type": "code",
   "execution_count": 11,
   "metadata": {},
   "outputs": [],
   "source": [
    "# Caffeine dataset\n",
    "X_train, X_test, y_train, y_test = train_test_split(X, data[\"Caffeine\"], test_size = 0.25, random_state=42)"
   ]
  },
  {
   "cell_type": "code",
   "execution_count": 12,
   "metadata": {},
   "outputs": [
    {
     "data": {
      "text/plain": [
       "0.9661016949152542"
      ]
     },
     "execution_count": 12,
     "metadata": {},
     "output_type": "execute_result"
    }
   ],
   "source": [
    "# Logistic model\n",
    "model = LogisticRegression(multi_class = \"ovr\",solver='lbfgs')\n",
    "# Fitting model\n",
    "model.fit(X_train, y_train)\n",
    "# Predictions\n",
    "pred = model.predict_proba(X_test)\n",
    "# Accuracy score\n",
    "model.score(X_test, y_test)"
   ]
  },
  {
   "cell_type": "code",
   "execution_count": 13,
   "metadata": {},
   "outputs": [],
   "source": [
    "# Probabilities for positive outcomes only\n",
    "probs = pred[:, 1]\n",
    "\n",
    "predi = model.predict(X_test)\n",
    "yhat_all[:,1] = predi\n",
    "y_testall[:,1] = y_test"
   ]
  },
  {
   "cell_type": "code",
   "execution_count": 14,
   "metadata": {},
   "outputs": [
    {
     "name": "stdout",
     "output_type": "stream",
     "text": [
      "No skill: ROC AUC = 0.500\n",
      "Logistic: ROC AUC = 0.708\n"
     ]
    }
   ],
   "source": [
    "# No skill prediction\n",
    "ns_probs = [0 for _ in range(len(y_test))]\n",
    "\n",
    "# Calculate scores\n",
    "ns_auc = roc_auc_score(y_test, ns_probs)\n",
    "lr_auc = roc_auc_score(y_test, probs)\n",
    "\n",
    "print(\"No skill: ROC AUC = %.3f\" % (ns_auc))\n",
    "print(\"Logistic: ROC AUC = %.3f\" % (lr_auc))"
   ]
  },
  {
   "cell_type": "code",
   "execution_count": 15,
   "metadata": {},
   "outputs": [
    {
     "data": {
      "image/png": "[encoded data removed]",
      "text/plain": [
       "<Figure size 432x288 with 1 Axes>"
      ]
     },
     "metadata": {
      "needs_background": "light"
     },
     "output_type": "display_data"
    }
   ],
   "source": [
    "# Calculate ROC curves\n",
    "ns_fpr, ns_tpr, _ = roc_curve(y_test, ns_probs)\n",
    "lr_fpr, lr_tpr, _ = roc_curve(y_test, probs)\n",
    "\n",
    "# Plot ROC curve for model\n",
    "plt.plot(ns_fpr, ns_tpr, linestyle = \"--\", label = \"No skill\")\n",
    "plt.plot(lr_fpr, lr_tpr, marker = \".\", label = \"Logistic\")\n",
    "plt.xlabel(\"False Positive Rate\")\n",
    "plt.ylabel(\"True Positive Rate\")\n",
    "plt.title(\"Logistic Classifier for Caffeine\")\n",
    "plt.legend()\n",
    "plt.show()"
   ]
  },
  {
   "cell_type": "markdown",
   "metadata": {},
   "source": [
    "### Cocaine"
   ]
  },
  {
   "cell_type": "code",
   "execution_count": 16,
   "metadata": {},
   "outputs": [],
   "source": [
    "# Cocaine dataset\n",
    "X_train, X_test, y_train, y_test = train_test_split(X, data[\"Cocaine\"], test_size = 0.25, random_state=42)"
   ]
  },
  {
   "cell_type": "code",
   "execution_count": 17,
   "metadata": {},
   "outputs": [
    {
     "data": {
      "text/plain": [
       "0.7817796610169492"
      ]
     },
     "execution_count": 17,
     "metadata": {},
     "output_type": "execute_result"
    }
   ],
   "source": [
    "# Logistic model\n",
    "model = LogisticRegression(multi_class = \"ovr\",solver='lbfgs')\n",
    "# Fitting model\n",
    "model.fit(X_train, y_train)\n",
    "# Predictions\n",
    "pred = model.predict_proba(X_test)\n",
    "# Accuracy score\n",
    "model.score(X_test, y_test)"
   ]
  },
  {
   "cell_type": "code",
   "execution_count": 18,
   "metadata": {},
   "outputs": [],
   "source": [
    "predi = model.predict(X_test)\n",
    "yhat_all[:,2] = predi\n",
    "y_testall[:,2] = y_test"
   ]
  },
  {
   "cell_type": "code",
   "execution_count": 19,
   "metadata": {},
   "outputs": [
    {
     "name": "stdout",
     "output_type": "stream",
     "text": [
      "No skill: ROC AUC = 0.500\n",
      "Logistic: ROC AUC = 0.712\n"
     ]
    }
   ],
   "source": [
    "# No skill prediction\n",
    "ns_probs = [0 for _ in range(len(y_test))]\n",
    "\n",
    "# Calculate scores\n",
    "ns_auc = roc_auc_score(y_test, ns_probs)\n",
    "lr_auc = roc_auc_score(y_test, probs)\n",
    "\n",
    "print(\"No skill: ROC AUC = %.3f\" % (ns_auc))\n",
    "print(\"Logistic: ROC AUC = %.3f\" % (lr_auc))"
   ]
  },
  {
   "cell_type": "code",
   "execution_count": 20,
   "metadata": {},
   "outputs": [
    {
     "data": {
      "image/png": "[encoded data removed]",
      "text/plain": [
       "<Figure size 432x288 with 1 Axes>"
      ]
     },
     "metadata": {
      "needs_background": "light"
     },
     "output_type": "display_data"
    }
   ],
   "source": [
    "# Calculate ROC curves\n",
    "ns_fpr, ns_tpr, _ = roc_curve(y_test, ns_probs)\n",
    "lr_fpr, lr_tpr, _ = roc_curve(y_test, probs)\n",
    "\n",
    "# Plot ROC curve for model\n",
    "plt.plot(ns_fpr, ns_tpr, linestyle = \"--\", label = \"No skill\")\n",
    "plt.plot(lr_fpr, lr_tpr, marker = \".\", label = \"Logistic\")\n",
    "plt.xlabel(\"False Positive Rate\")\n",
    "plt.ylabel(\"True Positive Rate\")\n",
    "plt.title(\"Logistic Classifier for Cocaine\")\n",
    "plt.legend()\n",
    "plt.show()"
   ]
  },
  {
   "cell_type": "markdown",
   "metadata": {},
   "source": [
    "### LSD"
   ]
  },
  {
   "cell_type": "code",
   "execution_count": 21,
   "metadata": {},
   "outputs": [],
   "source": [
    "# LSD dataset\n",
    "X_train, X_test, y_train, y_test = train_test_split(X, data[\"LSD\"], test_size = 0.25, random_state=42)"
   ]
  },
  {
   "cell_type": "code",
   "execution_count": 22,
   "metadata": {},
   "outputs": [
    {
     "data": {
      "text/plain": [
       "0.8050847457627118"
      ]
     },
     "execution_count": 22,
     "metadata": {},
     "output_type": "execute_result"
    }
   ],
   "source": [
    "# Logistic model\n",
    "model = LogisticRegression(multi_class = \"ovr\",solver='lbfgs')\n",
    "# Fitting model\n",
    "model.fit(X_train, y_train)\n",
    "# Predictions\n",
    "pred = model.predict_proba(X_test)\n",
    "# Accuracy score\n",
    "model.score(X_test, y_test)"
   ]
  },
  {
   "cell_type": "code",
   "execution_count": 23,
   "metadata": {},
   "outputs": [],
   "source": [
    "predi = model.predict(X_test)\n",
    "yhat_all[:,3] = predi\n",
    "y_testall[:,3] = y_test"
   ]
  },
  {
   "cell_type": "code",
   "execution_count": 24,
   "metadata": {},
   "outputs": [
    {
     "name": "stdout",
     "output_type": "stream",
     "text": [
      "No skill: ROC AUC = 0.500\n",
      "Logistic: ROC AUC = 0.700\n"
     ]
    }
   ],
   "source": [
    "# No skill prediction\n",
    "ns_probs = [0 for _ in range(len(y_test))]\n",
    "\n",
    "# Calculate scores\n",
    "ns_auc = roc_auc_score(y_test, ns_probs)\n",
    "lr_auc = roc_auc_score(y_test, probs)\n",
    "\n",
    "print(\"No skill: ROC AUC = %.3f\" % (ns_auc))\n",
    "print(\"Logistic: ROC AUC = %.3f\" % (lr_auc))"
   ]
  },
  {
   "cell_type": "code",
   "execution_count": 25,
   "metadata": {},
   "outputs": [
    {
     "data": {
      "image/png": "[encoded data removed]",
      "text/plain": [
       "<Figure size 432x288 with 1 Axes>"
      ]
     },
     "metadata": {
      "needs_background": "light"
     },
     "output_type": "display_data"
    }
   ],
   "source": [
    "# Calculate ROC curves\n",
    "ns_fpr, ns_tpr, _ = roc_curve(y_test, ns_probs)\n",
    "lr_fpr, lr_tpr, _ = roc_curve(y_test, probs)\n",
    "\n",
    "# Plot ROC curve for model\n",
    "plt.plot(ns_fpr, ns_tpr, linestyle = \"--\", label = \"No skill\")\n",
    "plt.plot(lr_fpr, lr_tpr, marker = \".\", label = \"Logistic\")\n",
    "plt.xlabel(\"False Positive Rate\")\n",
    "plt.ylabel(\"True Positive Rate\")\n",
    "plt.title(\"Logistic Classifier for LSD\")\n",
    "plt.legend()\n",
    "plt.show()"
   ]
  },
  {
   "cell_type": "markdown",
   "metadata": {},
   "source": [
    "### Heroin"
   ]
  },
  {
   "cell_type": "code",
   "execution_count": 26,
   "metadata": {},
   "outputs": [],
   "source": [
    "# Heroin dataset\n",
    "X_train, X_test, y_train, y_test = train_test_split(X, data[\"Heroin\"], test_size = 0.25, random_state=42)"
   ]
  },
  {
   "cell_type": "code",
   "execution_count": 27,
   "metadata": {},
   "outputs": [
    {
     "data": {
      "text/plain": [
       "0.9279661016949152"
      ]
     },
     "execution_count": 27,
     "metadata": {},
     "output_type": "execute_result"
    }
   ],
   "source": [
    "# Logistic model\n",
    "model = LogisticRegression(multi_class = \"ovr\",solver='lbfgs')\n",
    "# Fitting model\n",
    "model.fit(X_train, y_train)\n",
    "# Predictions\n",
    "pred = model.predict_proba(X_test)\n",
    "# Accuracy score\n",
    "model.score(X_test, y_test)"
   ]
  },
  {
   "cell_type": "code",
   "execution_count": 28,
   "metadata": {},
   "outputs": [],
   "source": [
    "predi = model.predict(X_test)\n",
    "yhat_all[:,4] = predi\n",
    "y_testall[:,4] = y_test"
   ]
  },
  {
   "cell_type": "code",
   "execution_count": 29,
   "metadata": {},
   "outputs": [
    {
     "name": "stdout",
     "output_type": "stream",
     "text": [
      "No skill: ROC AUC = 0.500\n",
      "Logistic: ROC AUC = 0.659\n"
     ]
    }
   ],
   "source": [
    "# No skill prediction\n",
    "ns_probs = [0 for _ in range(len(y_test))]\n",
    "\n",
    "# Calculate scores\n",
    "ns_auc = roc_auc_score(y_test, ns_probs)\n",
    "lr_auc = roc_auc_score(y_test, probs)\n",
    "\n",
    "print(\"No skill: ROC AUC = %.3f\" % (ns_auc))\n",
    "print(\"Logistic: ROC AUC = %.3f\" % (lr_auc))"
   ]
  },
  {
   "cell_type": "code",
   "execution_count": 30,
   "metadata": {},
   "outputs": [
    {
     "data": {
      "image/png": "[encoded data removed]",
      "text/plain": [
       "<Figure size 432x288 with 1 Axes>"
      ]
     },
     "metadata": {
      "needs_background": "light"
     },
     "output_type": "display_data"
    }
   ],
   "source": [
    "# Calculate ROC curves\n",
    "ns_fpr, ns_tpr, _ = roc_curve(y_test, ns_probs)\n",
    "lr_fpr, lr_tpr, _ = roc_curve(y_test, probs)\n",
    "\n",
    "# Plot ROC curve for model\n",
    "plt.plot(ns_fpr, ns_tpr, linestyle = \"--\", label = \"No skill\")\n",
    "plt.plot(lr_fpr, lr_tpr, marker = \".\", label = \"Logistic\")\n",
    "plt.xlabel(\"False Positive Rate\")\n",
    "plt.ylabel(\"True Positive Rate\")\n",
    "plt.title(\"Logistic Classifier for Heroin\")\n",
    "plt.legend()\n",
    "plt.show()"
   ]
  },
  {
   "cell_type": "code",
   "execution_count": 33,
   "metadata": {},
   "outputs": [
    {
     "name": "stdout",
     "output_type": "stream",
     "text": [
      "0.15805084745762712\n",
      "0.5127118644067796\n"
     ]
    }
   ],
   "source": [
    "hamming = sklm.hamming_loss(y_testall,yhat_all)\n",
    "subsetacc = sklm.accuracy_score(y_testall,yhat_all)\n",
    "print(hamming)\n",
    "print(subsetacc)"
   ]
  },
  {
   "cell_type": "code",
   "execution_count": 34,
   "metadata": {},
   "outputs": [
    {
     "name": "stdout",
     "output_type": "stream",
     "text": [
      "[[[288  42]\n",
      "  [ 86  56]]\n",
      "\n",
      " [[  0  16]\n",
      "  [  0 456]]\n",
      "\n",
      " [[350  16]\n",
      "  [ 87  19]]\n",
      "\n",
      " [[331  42]\n",
      "  [ 50  49]]\n",
      "\n",
      " [[438   0]\n",
      "  [ 34   0]]]\n"
     ]
    }
   ],
   "source": [
    "## confusion ma\n",
    "mcm = sklm.multilabel_confusion_matrix(y_testall,yhat_all)\n",
    "print(mcm)"
   ]
  },
  {
   "cell_type": "code",
   "execution_count": null,
   "metadata": {},
   "outputs": [],
   "source": [
    "tn = mcm[:, 0, 0]\n",
    "tp = mcm[:, 1, 1]\n",
    "fn = mcm[:, 1, 0]\n",
    "fp = mcm[:, 0, 1]"
   ]
  },
  {
   "cell_type": "code",
   "execution_count": 35,
   "metadata": {},
   "outputs": [
    {
     "ename": "NameError",
     "evalue": "name 'tp' is not defined",
     "output_type": "error",
     "traceback": [
      "\u001b[0;31m---------------------------------------------------------------------------\u001b[0m",
      "\u001b[0;31mNameError\u001b[0m                                 Traceback (most recent call last)",
      "\u001b[0;32m<ipython-input-35-e2a9a3c82ea2>\u001b[0m in \u001b[0;36m<module>\u001b[0;34m\u001b[0m\n\u001b[0;32m----> 1\u001b[0;31m \u001b[0mrecall\u001b[0m \u001b[0;34m=\u001b[0m \u001b[0mtp\u001b[0m \u001b[0;34m/\u001b[0m \u001b[0;34m(\u001b[0m\u001b[0mtp\u001b[0m \u001b[0;34m+\u001b[0m \u001b[0mfn\u001b[0m\u001b[0;34m)\u001b[0m\u001b[0;34m\u001b[0m\u001b[0;34m\u001b[0m\u001b[0m\n\u001b[0m\u001b[1;32m      2\u001b[0m \u001b[0mprint\u001b[0m\u001b[0;34m(\u001b[0m\u001b[0mrecall\u001b[0m\u001b[0;34m)\u001b[0m\u001b[0;34m\u001b[0m\u001b[0;34m\u001b[0m\u001b[0m\n",
      "\u001b[0;31mNameError\u001b[0m: name 'tp' is not defined"
     ]
    }
   ],
   "source": [
    "recall = tp / (tp + fn)\n",
    "print(recall)"
   ]
  },
  {
   "cell_type": "code",
   "execution_count": null,
   "metadata": {},
   "outputs": [],
   "source": [
    "specificity = tn / (tn + fp)\n",
    "print(specificity)"
   ]
  }
 ],
 "metadata": {
  "kernelspec": {
   "display_name": "Python 3",
   "language": "python",
   "name": "python3"
  },
  "language_info": {
   "codemirror_mode": {
    "name": "ipython",
    "version": 3
   },
   "file_extension": ".py",
   "mimetype": "text/x-python",
   "name": "python",
   "nbconvert_exporter": "python",
   "pygments_lexer": "ipython3",
   "version": "3.7.4"
  }
 },
 "nbformat": 4,
 "nbformat_minor": 5
}
