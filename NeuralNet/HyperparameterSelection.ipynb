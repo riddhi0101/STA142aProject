{
 "cells": [
  {
   "cell_type": "code",
   "execution_count": 1,
   "metadata": {},
   "outputs": [],
   "source": [
    "import os\n",
    "import NNFunctions as NNF\n",
    "import numpy as np\n",
    "import pandas as pd\n",
    "import sklearn.metrics as sklm\n",
    "from sklearn.model_selection import KFold\n",
    "\n",
    "\n",
    "import torch\n",
    "import torch.nn as nn\n",
    "import torch.nn.functional as F\n",
    "from torch.utils.data import Dataset\n",
    "import torchvision.datasets as dsets\n",
    "import torchvision.transforms as transforms"
   ]
  },
  {
   "cell_type": "code",
   "execution_count": 2,
   "metadata": {},
   "outputs": [
    {
     "data": {
      "text/html": [
       "<div>\n",
       "<style scoped>\n",
       "    .dataframe tbody tr th:only-of-type {\n",
       "        vertical-align: middle;\n",
       "    }\n",
       "\n",
       "    .dataframe tbody tr th {\n",
       "        vertical-align: top;\n",
       "    }\n",
       "\n",
       "    .dataframe thead th {\n",
       "        text-align: right;\n",
       "    }\n",
       "</style>\n",
       "<table border=\"1\" class=\"dataframe\">\n",
       "  <thead>\n",
       "    <tr style=\"text-align: right;\">\n",
       "      <th></th>\n",
       "      <th>id</th>\n",
       "      <th>Age</th>\n",
       "      <th>Gender</th>\n",
       "      <th>Education</th>\n",
       "      <th>Country</th>\n",
       "      <th>Ethnicity</th>\n",
       "      <th>Neuroticism</th>\n",
       "      <th>Extraversion</th>\n",
       "      <th>Openness</th>\n",
       "      <th>Agreeableness</th>\n",
       "      <th>Conscientiousness</th>\n",
       "      <th>Impulsive</th>\n",
       "      <th>Sensation Seeking</th>\n",
       "      <th>Benzos</th>\n",
       "      <th>Caffeine</th>\n",
       "      <th>Cocaine</th>\n",
       "      <th>LSD</th>\n",
       "      <th>Heroin</th>\n",
       "    </tr>\n",
       "  </thead>\n",
       "  <tbody>\n",
       "    <tr>\n",
       "      <th>0</th>\n",
       "      <td>1.0</td>\n",
       "      <td>0.49788</td>\n",
       "      <td>0.48246</td>\n",
       "      <td>-0.05921</td>\n",
       "      <td>0.96082</td>\n",
       "      <td>0.12600</td>\n",
       "      <td>0.31287</td>\n",
       "      <td>-0.57545</td>\n",
       "      <td>-0.58331</td>\n",
       "      <td>-0.91699</td>\n",
       "      <td>-0.00665</td>\n",
       "      <td>-0.21712</td>\n",
       "      <td>-1.18084</td>\n",
       "      <td>0.0</td>\n",
       "      <td>1.0</td>\n",
       "      <td>0.0</td>\n",
       "      <td>0.0</td>\n",
       "      <td>0.0</td>\n",
       "    </tr>\n",
       "    <tr>\n",
       "      <th>1</th>\n",
       "      <td>2.0</td>\n",
       "      <td>-0.07854</td>\n",
       "      <td>-0.48246</td>\n",
       "      <td>1.98437</td>\n",
       "      <td>0.96082</td>\n",
       "      <td>-0.31685</td>\n",
       "      <td>-0.67825</td>\n",
       "      <td>1.93886</td>\n",
       "      <td>1.43533</td>\n",
       "      <td>0.76096</td>\n",
       "      <td>-0.14277</td>\n",
       "      <td>-0.71126</td>\n",
       "      <td>-0.21575</td>\n",
       "      <td>0.0</td>\n",
       "      <td>1.0</td>\n",
       "      <td>1.0</td>\n",
       "      <td>0.0</td>\n",
       "      <td>0.0</td>\n",
       "    </tr>\n",
       "    <tr>\n",
       "      <th>2</th>\n",
       "      <td>3.0</td>\n",
       "      <td>0.49788</td>\n",
       "      <td>-0.48246</td>\n",
       "      <td>-0.05921</td>\n",
       "      <td>0.96082</td>\n",
       "      <td>-0.31685</td>\n",
       "      <td>-0.46725</td>\n",
       "      <td>0.80523</td>\n",
       "      <td>-0.84732</td>\n",
       "      <td>-1.62090</td>\n",
       "      <td>-1.01450</td>\n",
       "      <td>-1.37983</td>\n",
       "      <td>0.40148</td>\n",
       "      <td>0.0</td>\n",
       "      <td>1.0</td>\n",
       "      <td>0.0</td>\n",
       "      <td>0.0</td>\n",
       "      <td>0.0</td>\n",
       "    </tr>\n",
       "    <tr>\n",
       "      <th>3</th>\n",
       "      <td>4.0</td>\n",
       "      <td>-0.95197</td>\n",
       "      <td>0.48246</td>\n",
       "      <td>1.16365</td>\n",
       "      <td>0.96082</td>\n",
       "      <td>-0.31685</td>\n",
       "      <td>-0.14882</td>\n",
       "      <td>-0.80615</td>\n",
       "      <td>-0.01928</td>\n",
       "      <td>0.59042</td>\n",
       "      <td>0.58489</td>\n",
       "      <td>-1.37983</td>\n",
       "      <td>-1.18084</td>\n",
       "      <td>1.0</td>\n",
       "      <td>1.0</td>\n",
       "      <td>0.0</td>\n",
       "      <td>0.0</td>\n",
       "      <td>0.0</td>\n",
       "    </tr>\n",
       "    <tr>\n",
       "      <th>4</th>\n",
       "      <td>5.0</td>\n",
       "      <td>0.49788</td>\n",
       "      <td>0.48246</td>\n",
       "      <td>1.98437</td>\n",
       "      <td>0.96082</td>\n",
       "      <td>-0.31685</td>\n",
       "      <td>0.73545</td>\n",
       "      <td>-1.63340</td>\n",
       "      <td>-0.45174</td>\n",
       "      <td>-0.30172</td>\n",
       "      <td>1.30612</td>\n",
       "      <td>-0.21712</td>\n",
       "      <td>-0.21575</td>\n",
       "      <td>0.0</td>\n",
       "      <td>1.0</td>\n",
       "      <td>0.0</td>\n",
       "      <td>0.0</td>\n",
       "      <td>0.0</td>\n",
       "    </tr>\n",
       "    <tr>\n",
       "      <th>...</th>\n",
       "      <td>...</td>\n",
       "      <td>...</td>\n",
       "      <td>...</td>\n",
       "      <td>...</td>\n",
       "      <td>...</td>\n",
       "      <td>...</td>\n",
       "      <td>...</td>\n",
       "      <td>...</td>\n",
       "      <td>...</td>\n",
       "      <td>...</td>\n",
       "      <td>...</td>\n",
       "      <td>...</td>\n",
       "      <td>...</td>\n",
       "      <td>...</td>\n",
       "      <td>...</td>\n",
       "      <td>...</td>\n",
       "      <td>...</td>\n",
       "      <td>...</td>\n",
       "    </tr>\n",
       "    <tr>\n",
       "      <th>1880</th>\n",
       "      <td>1884.0</td>\n",
       "      <td>-0.95197</td>\n",
       "      <td>0.48246</td>\n",
       "      <td>-0.61113</td>\n",
       "      <td>-0.57009</td>\n",
       "      <td>-0.31685</td>\n",
       "      <td>-1.19430</td>\n",
       "      <td>1.74091</td>\n",
       "      <td>1.88511</td>\n",
       "      <td>0.76096</td>\n",
       "      <td>-1.13788</td>\n",
       "      <td>0.88113</td>\n",
       "      <td>1.92173</td>\n",
       "      <td>0.0</td>\n",
       "      <td>1.0</td>\n",
       "      <td>0.0</td>\n",
       "      <td>1.0</td>\n",
       "      <td>0.0</td>\n",
       "    </tr>\n",
       "    <tr>\n",
       "      <th>1881</th>\n",
       "      <td>1885.0</td>\n",
       "      <td>-0.95197</td>\n",
       "      <td>-0.48246</td>\n",
       "      <td>-0.61113</td>\n",
       "      <td>-0.57009</td>\n",
       "      <td>-0.31685</td>\n",
       "      <td>-0.24649</td>\n",
       "      <td>1.74091</td>\n",
       "      <td>0.58331</td>\n",
       "      <td>0.76096</td>\n",
       "      <td>-1.51840</td>\n",
       "      <td>0.88113</td>\n",
       "      <td>0.76540</td>\n",
       "      <td>0.0</td>\n",
       "      <td>1.0</td>\n",
       "      <td>0.0</td>\n",
       "      <td>1.0</td>\n",
       "      <td>0.0</td>\n",
       "    </tr>\n",
       "    <tr>\n",
       "      <th>1882</th>\n",
       "      <td>1886.0</td>\n",
       "      <td>-0.07854</td>\n",
       "      <td>0.48246</td>\n",
       "      <td>0.45468</td>\n",
       "      <td>-0.57009</td>\n",
       "      <td>-0.31685</td>\n",
       "      <td>1.13281</td>\n",
       "      <td>-1.37639</td>\n",
       "      <td>-1.27553</td>\n",
       "      <td>-1.77200</td>\n",
       "      <td>-1.38502</td>\n",
       "      <td>0.52975</td>\n",
       "      <td>-0.52593</td>\n",
       "      <td>1.0</td>\n",
       "      <td>1.0</td>\n",
       "      <td>1.0</td>\n",
       "      <td>0.0</td>\n",
       "      <td>0.0</td>\n",
       "    </tr>\n",
       "    <tr>\n",
       "      <th>1883</th>\n",
       "      <td>1887.0</td>\n",
       "      <td>-0.95197</td>\n",
       "      <td>0.48246</td>\n",
       "      <td>-0.61113</td>\n",
       "      <td>-0.57009</td>\n",
       "      <td>-0.31685</td>\n",
       "      <td>0.91093</td>\n",
       "      <td>-1.92173</td>\n",
       "      <td>0.29338</td>\n",
       "      <td>-1.62090</td>\n",
       "      <td>-2.57309</td>\n",
       "      <td>1.29221</td>\n",
       "      <td>1.22470</td>\n",
       "      <td>0.0</td>\n",
       "      <td>1.0</td>\n",
       "      <td>0.0</td>\n",
       "      <td>1.0</td>\n",
       "      <td>0.0</td>\n",
       "    </tr>\n",
       "    <tr>\n",
       "      <th>1884</th>\n",
       "      <td>1888.0</td>\n",
       "      <td>-0.95197</td>\n",
       "      <td>-0.48246</td>\n",
       "      <td>-0.61113</td>\n",
       "      <td>0.21128</td>\n",
       "      <td>-0.31685</td>\n",
       "      <td>-0.46725</td>\n",
       "      <td>2.12700</td>\n",
       "      <td>1.65653</td>\n",
       "      <td>1.11406</td>\n",
       "      <td>0.41594</td>\n",
       "      <td>0.88113</td>\n",
       "      <td>1.22470</td>\n",
       "      <td>1.0</td>\n",
       "      <td>1.0</td>\n",
       "      <td>1.0</td>\n",
       "      <td>1.0</td>\n",
       "      <td>0.0</td>\n",
       "    </tr>\n",
       "  </tbody>\n",
       "</table>\n",
       "<p>1885 rows × 18 columns</p>\n",
       "</div>"
      ],
      "text/plain": [
       "          id      Age   Gender  Education  Country  Ethnicity  Neuroticism  \\\n",
       "0        1.0  0.49788  0.48246   -0.05921  0.96082    0.12600      0.31287   \n",
       "1        2.0 -0.07854 -0.48246    1.98437  0.96082   -0.31685     -0.67825   \n",
       "2        3.0  0.49788 -0.48246   -0.05921  0.96082   -0.31685     -0.46725   \n",
       "3        4.0 -0.95197  0.48246    1.16365  0.96082   -0.31685     -0.14882   \n",
       "4        5.0  0.49788  0.48246    1.98437  0.96082   -0.31685      0.73545   \n",
       "...      ...      ...      ...        ...      ...        ...          ...   \n",
       "1880  1884.0 -0.95197  0.48246   -0.61113 -0.57009   -0.31685     -1.19430   \n",
       "1881  1885.0 -0.95197 -0.48246   -0.61113 -0.57009   -0.31685     -0.24649   \n",
       "1882  1886.0 -0.07854  0.48246    0.45468 -0.57009   -0.31685      1.13281   \n",
       "1883  1887.0 -0.95197  0.48246   -0.61113 -0.57009   -0.31685      0.91093   \n",
       "1884  1888.0 -0.95197 -0.48246   -0.61113  0.21128   -0.31685     -0.46725   \n",
       "\n",
       "      Extraversion  Openness  Agreeableness  Conscientiousness  Impulsive  \\\n",
       "0         -0.57545  -0.58331       -0.91699           -0.00665   -0.21712   \n",
       "1          1.93886   1.43533        0.76096           -0.14277   -0.71126   \n",
       "2          0.80523  -0.84732       -1.62090           -1.01450   -1.37983   \n",
       "3         -0.80615  -0.01928        0.59042            0.58489   -1.37983   \n",
       "4         -1.63340  -0.45174       -0.30172            1.30612   -0.21712   \n",
       "...            ...       ...            ...                ...        ...   \n",
       "1880       1.74091   1.88511        0.76096           -1.13788    0.88113   \n",
       "1881       1.74091   0.58331        0.76096           -1.51840    0.88113   \n",
       "1882      -1.37639  -1.27553       -1.77200           -1.38502    0.52975   \n",
       "1883      -1.92173   0.29338       -1.62090           -2.57309    1.29221   \n",
       "1884       2.12700   1.65653        1.11406            0.41594    0.88113   \n",
       "\n",
       "      Sensation Seeking  Benzos  Caffeine  Cocaine  LSD  Heroin  \n",
       "0              -1.18084     0.0       1.0      0.0  0.0     0.0  \n",
       "1              -0.21575     0.0       1.0      1.0  0.0     0.0  \n",
       "2               0.40148     0.0       1.0      0.0  0.0     0.0  \n",
       "3              -1.18084     1.0       1.0      0.0  0.0     0.0  \n",
       "4              -0.21575     0.0       1.0      0.0  0.0     0.0  \n",
       "...                 ...     ...       ...      ...  ...     ...  \n",
       "1880            1.92173     0.0       1.0      0.0  1.0     0.0  \n",
       "1881            0.76540     0.0       1.0      0.0  1.0     0.0  \n",
       "1882           -0.52593     1.0       1.0      1.0  0.0     0.0  \n",
       "1883            1.22470     0.0       1.0      0.0  1.0     0.0  \n",
       "1884            1.22470     1.0       1.0      1.0  1.0     0.0  \n",
       "\n",
       "[1885 rows x 18 columns]"
      ]
     },
     "execution_count": 2,
     "metadata": {},
     "output_type": "execute_result"
    }
   ],
   "source": [
    "data = pd.read_csv(\"drugConsumption_5Response.csv\")\n",
    "data"
   ]
  },
  {
   "cell_type": "code",
   "execution_count": 3,
   "metadata": {},
   "outputs": [
    {
     "data": {
      "text/plain": [
       "[535.0, 1824.0, 417.0, 380.0, 118.0]"
      ]
     },
     "execution_count": 3,
     "metadata": {},
     "output_type": "execute_result"
    }
   ],
   "source": [
    "drugs = [\"Benzos\", \"Caffeine\",\"Cocaine\",\"LSD\",\"Heroin\"]\n",
    "freq = [sum(data[i]) for i in drugs]\n",
    "freq"
   ]
  },
  {
   "cell_type": "code",
   "execution_count": 4,
   "metadata": {},
   "outputs": [],
   "source": [
    "data = pd.DataFrame.to_numpy(data)"
   ]
  },
  {
   "cell_type": "code",
   "execution_count": 5,
   "metadata": {},
   "outputs": [
    {
     "name": "stdout",
     "output_type": "stream",
     "text": [
      "(1414, 18)\n",
      "(471, 18)\n"
     ]
    }
   ],
   "source": [
    "np.random.seed(1)\n",
    "traindata, testdata = NNF.train_testSplit(data)\n",
    "print(traindata.shape)\n",
    "print(testdata.shape)"
   ]
  },
  {
   "cell_type": "code",
   "execution_count": 6,
   "metadata": {},
   "outputs": [
    {
     "data": {
      "text/plain": [
       "[400.0, 1367.0, 306.0, 279.0, 85.0]"
      ]
     },
     "execution_count": 6,
     "metadata": {},
     "output_type": "execute_result"
    }
   ],
   "source": [
    "freq = [sum(traindata[:,i]) for i in range(13,18)]\n",
    "freq"
   ]
  },
  {
   "cell_type": "code",
   "execution_count": 7,
   "metadata": {},
   "outputs": [
    {
     "name": "stdout",
     "output_type": "stream",
     "text": [
      "[ 4  8 12 16 20]\n"
     ]
    }
   ],
   "source": [
    "hiddenlSizes = np.arange(4,22,4)\n",
    "lrs = np.array([0.3,.01,.001])\n",
    "print(hiddenlSizes)"
   ]
  },
  {
   "cell_type": "code",
   "execution_count": 8,
   "metadata": {},
   "outputs": [],
   "source": [
    "cverrors = np.zeros((5,4,3))"
   ]
  },
  {
   "cell_type": "code",
   "execution_count": 9,
   "metadata": {},
   "outputs": [
    {
     "name": "stdout",
     "output_type": "stream",
     "text": [
      "0 0\n",
      "0 1\n",
      "0 2\n",
      "1 0\n",
      "1 1\n",
      "1 2\n",
      "2 0\n",
      "2 1\n",
      "2 2\n",
      "3 0\n",
      "3 1\n",
      "3 2\n",
      "4 0\n",
      "4 1\n",
      "4 2\n"
     ]
    }
   ],
   "source": [
    "for i in range(len(hiddenlSizes)):\n",
    "    hs = hiddenlSizes[i]\n",
    "    for j in range(len(lrs)):\n",
    "        print(i,j)\n",
    "        lr = lrs[j]\n",
    "        if lr <= 0.001:\n",
    "            errors = NNF.get_cvError(traindata,lr,hs, epochs=400)\n",
    "        else:\n",
    "            errors = NNF.get_cvError(traindata,lr,hs)\n",
    "        cverrors[i][j] = np.array(list(errors))\n",
    "        \n"
   ]
  },
  {
   "cell_type": "code",
   "execution_count": 10,
   "metadata": {},
   "outputs": [
    {
     "data": {
      "text/plain": [
       "array([[[0.14836629, 0.52617848, 0.6705335 ],\n",
       "        [0.15445104, 0.52123149, 0.54000643],\n",
       "        [0.15840563, 0.51982056, 0.52207673],\n",
       "        [0.        , 0.        , 0.        ]],\n",
       "\n",
       "       [[0.15147483, 0.52265995, 0.66364016],\n",
       "        [0.1513395 , 0.52052477, 0.54448178],\n",
       "        [0.15854698, 0.52123399, 0.50864927],\n",
       "        [0.        , 0.        , 0.        ]],\n",
       "\n",
       "       [[0.15571762, 0.51062827, 0.64555981],\n",
       "        [0.1530321 , 0.52618851, 0.60611879],\n",
       "        [0.15840563, 0.52335413, 0.5415976 ],\n",
       "        [0.        , 0.        , 0.        ]],\n",
       "\n",
       "       [[0.15430619, 0.52124151, 0.65221735],\n",
       "        [0.15020575, 0.52618349, 0.56020405],\n",
       "        [0.15911235, 0.52123399, 0.51600807],\n",
       "        [0.        , 0.        , 0.        ]],\n",
       "\n",
       "       [[0.15841415, 0.50850813, 0.62770784],\n",
       "        [0.15176102, 0.52264742, 0.55509477],\n",
       "        [0.15812245, 0.52406586, 0.50220062],\n",
       "        [0.        , 0.        , 0.        ]]])"
      ]
     },
     "execution_count": 10,
     "metadata": {},
     "output_type": "execute_result"
    }
   ],
   "source": [
    "cverrors"
   ]
  },
  {
   "cell_type": "code",
   "execution_count": 11,
   "metadata": {},
   "outputs": [
    {
     "name": "stdout",
     "output_type": "stream",
     "text": [
      "[ 4  6  8 10]\n"
     ]
    }
   ],
   "source": [
    "hiddenlSizes = np.arange(4,12,2)\n",
    "lrs = np.array([0.4,0.3])\n",
    "print(hiddenlSizes)"
   ]
  },
  {
   "cell_type": "code",
   "execution_count": 12,
   "metadata": {},
   "outputs": [],
   "source": [
    "cverrors1 = np.zeros((4,2,3))"
   ]
  },
  {
   "cell_type": "code",
   "execution_count": 13,
   "metadata": {},
   "outputs": [
    {
     "name": "stdout",
     "output_type": "stream",
     "text": [
      "0 0\n",
      "0 1\n",
      "1 0\n",
      "1 1\n",
      "2 0\n",
      "2 1\n",
      "3 0\n",
      "3 1\n"
     ]
    }
   ],
   "source": [
    "for i in range(len(hiddenlSizes)):\n",
    "    hs = hiddenlSizes[i]\n",
    "    for j in range(len(lrs)):\n",
    "        print(i,j)\n",
    "        lr = lrs[j]\n",
    "        if lr <= 0.001:\n",
    "            errors = NNF.get_cvError(traindata,lr,hs, epochs=400)\n",
    "        else:\n",
    "            errors = NNF.get_cvError(traindata,lr,hs)\n",
    "        cverrors1[i][j] = np.array(list(errors))"
   ]
  },
  {
   "cell_type": "code",
   "execution_count": 14,
   "metadata": {},
   "outputs": [
    {
     "data": {
      "text/plain": [
       "array([[[0.15162018, 0.52619352, 0.68259849],\n",
       "        [0.14850713, 0.53042879, 0.67762332]],\n",
       "\n",
       "       [[0.14779691, 0.5304338 , 0.67067687],\n",
       "        [0.15091046, 0.5219382 , 0.66405005]],\n",
       "\n",
       "       [[0.1493597 , 0.53041626, 0.66613068],\n",
       "        [0.15190186, 0.52406335, 0.66312134]],\n",
       "\n",
       "       [[0.15543643, 0.51982558, 0.66839908],\n",
       "        [0.15147583, 0.52760945, 0.66520694]]])"
      ]
     },
     "execution_count": 14,
     "metadata": {},
     "output_type": "execute_result"
    }
   ],
   "source": [
    "cverrors1"
   ]
  },
  {
   "cell_type": "code",
   "execution_count": null,
   "metadata": {},
   "outputs": [],
   "source": [
    "## visualize cross validation results"
   ]
  },
  {
   "cell_type": "code",
   "execution_count": null,
   "metadata": {},
   "outputs": [],
   "source": [
    "## test model we chose: \n",
    "# hidden layer is 4, lr = 0.3"
   ]
  },
  {
   "cell_type": "code",
   "execution_count": null,
   "metadata": {},
   "outputs": [],
   "source": []
  }
 ],
 "metadata": {
  "kernelspec": {
   "display_name": "PytochJN",
   "language": "python",
   "name": "pytochjn"
  },
  "language_info": {
   "codemirror_mode": {
    "name": "ipython",
    "version": 3
   },
   "file_extension": ".py",
   "mimetype": "text/x-python",
   "name": "python",
   "nbconvert_exporter": "python",
   "pygments_lexer": "ipython3",
   "version": "3.8.1"
  }
 },
 "nbformat": 4,
 "nbformat_minor": 2
}
